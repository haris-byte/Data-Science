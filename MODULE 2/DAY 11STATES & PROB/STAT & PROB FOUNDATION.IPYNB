{
 "cells": [
  {
   "cell_type": "markdown",
   "id": "ff6c93a5",
   "metadata": {},
   "source": [
    "# Day 11  Tasks\n",
    "\n",
    "## Mean, Median, Mode"
   ]
  },
  {
   "cell_type": "code",
   "execution_count": 6,
   "id": "17e28509",
   "metadata": {},
   "outputs": [
    {
     "name": "stdout",
     "output_type": "stream",
     "text": [
      "Mean\n",
      "-> 1600.9\n",
      "Median:\n",
      "-> 61.0\n",
      "Mode\n",
      "-> 22 (count: 1) \n",
      "\n",
      "Variance\n",
      "->\n",
      "a        126.96\n",
      "b    6876166.21\n",
      "c        467.56\n",
      "dtype: float64\n",
      "\n",
      " std_dev:\n",
      "->\n",
      "a      11.267653\n",
      "b    2622.244499\n",
      "c      21.623136\n",
      "dtype: float64\n"
     ]
    },
    {
     "name": "stderr",
     "output_type": "stream",
     "text": [
      "c:\\Users\\Dell\\AppData\\Local\\Programs\\Python\\Python313\\Lib\\site-packages\\numpy\\_core\\fromnumeric.py:4266: FutureWarning: The behavior of DataFrame.var with axis=None is deprecated, in a future version this will reduce over both axes and return a scalar. To retain the old behavior, pass axis=0 (or do not pass axis)\n",
      "  return var(axis=axis, dtype=dtype, out=out, ddof=ddof, **kwargs)\n",
      "c:\\Users\\Dell\\AppData\\Local\\Programs\\Python\\Python313\\Lib\\site-packages\\numpy\\_core\\fromnumeric.py:4062: FutureWarning: The behavior of DataFrame.std with axis=None is deprecated, in a future version this will reduce over both axes and return a scalar. To retain the old behavior, pass axis=0 (or do not pass axis)\n",
      "  return std(axis=axis, dtype=dtype, out=out, ddof=ddof, **kwargs)\n"
     ]
    }
   ],
   "source": [
    "import numpy as n\n",
    "import pandas as p\n",
    "from scipy import stats\n",
    "\n",
    "df = p.DataFrame({\n",
    "    \"a\": n.random.randint(18,60,10),\n",
    "    \"b\": n.random.randint(1000,9000,10),\n",
    "    \"c\": n.random.randint(8,100,10) \n",
    "})\n",
    "print(f\"Mean\\n-> {n.mean(df)}\\nMedian:\\n-> {n.median(df)}\\nMode\\n-> {stats.mode(df).mode[0]} (count: {stats.mode(df).count[0]})\")\n"
   ]
  },
  {
   "cell_type": "markdown",
   "id": "ecd225fb",
   "metadata": {},
   "source": [
    "## Variancs & Standard Deviasion"
   ]
  },
  {
   "cell_type": "code",
   "execution_count": 7,
   "id": "dfad54b3",
   "metadata": {},
   "outputs": [
    {
     "name": "stdout",
     "output_type": "stream",
     "text": [
      " \n",
      "\n",
      "Variance\n",
      "->\n",
      "a        126.96\n",
      "b    6876166.21\n",
      "c        467.56\n",
      "dtype: float64\n",
      "\n",
      " std_dev:\n",
      "->\n",
      "a      11.267653\n",
      "b    2622.244499\n",
      "c      21.623136\n",
      "dtype: float64\n"
     ]
    },
    {
     "name": "stderr",
     "output_type": "stream",
     "text": [
      "c:\\Users\\Dell\\AppData\\Local\\Programs\\Python\\Python313\\Lib\\site-packages\\numpy\\_core\\fromnumeric.py:4266: FutureWarning: The behavior of DataFrame.var with axis=None is deprecated, in a future version this will reduce over both axes and return a scalar. To retain the old behavior, pass axis=0 (or do not pass axis)\n",
      "  return var(axis=axis, dtype=dtype, out=out, ddof=ddof, **kwargs)\n",
      "c:\\Users\\Dell\\AppData\\Local\\Programs\\Python\\Python313\\Lib\\site-packages\\numpy\\_core\\fromnumeric.py:4062: FutureWarning: The behavior of DataFrame.std with axis=None is deprecated, in a future version this will reduce over both axes and return a scalar. To retain the old behavior, pass axis=0 (or do not pass axis)\n",
      "  return std(axis=axis, dtype=dtype, out=out, ddof=ddof, **kwargs)\n"
     ]
    }
   ],
   "source": [
    "print(f\" \\n\\nVariance\\n->\\n{n.var(df)}\\n\\n std_dev:\\n->\\n{n.std(df)}\")"
   ]
  },
  {
   "cell_type": "code",
   "execution_count": 17,
   "id": "3ecd3082",
   "metadata": {},
   "outputs": [
    {
     "name": "stdout",
     "output_type": "stream",
     "text": [
      "Index(['a', 'b', 'c'], dtype='object') [1.26960000e+02 6.87616621e+06 4.67560000e+02]\n"
     ]
    },
    {
     "name": "stderr",
     "output_type": "stream",
     "text": [
      "c:\\Users\\Dell\\AppData\\Local\\Programs\\Python\\Python313\\Lib\\site-packages\\numpy\\_core\\fromnumeric.py:4266: FutureWarning: The behavior of DataFrame.var with axis=None is deprecated, in a future version this will reduce over both axes and return a scalar. To retain the old behavior, pass axis=0 (or do not pass axis)\n",
      "  return var(axis=axis, dtype=dtype, out=out, ddof=ddof, **kwargs)\n",
      "c:\\Users\\Dell\\AppData\\Local\\Programs\\Python\\Python313\\Lib\\site-packages\\numpy\\_core\\fromnumeric.py:4062: FutureWarning: The behavior of DataFrame.std with axis=None is deprecated, in a future version this will reduce over both axes and return a scalar. To retain the old behavior, pass axis=0 (or do not pass axis)\n",
      "  return std(axis=axis, dtype=dtype, out=out, ddof=ddof, **kwargs)\n"
     ]
    },
    {
     "data": {
      "image/png": "[encoded data removed]",
      "text/plain": [
       "<Figure size 640x480 with 1 Axes>"
      ]
     },
     "metadata": {},
     "output_type": "display_data"
    }
   ],
   "source": [
    "import seaborn as s\n",
    "import matplotlib.pyplot as mt\n",
    "var = n.var(df)\n",
    "print(var.index,var.values)\n",
    "std = n.std(df)\n",
    "s.barplot(x=var.index, y=var.values)\n",
    "mt.show()"
   ]
  }
 ],
 "metadata": {
  "kernelspec": {
   "display_name": "Python 3",
   "language": "python",
   "name": "python3"
  },
  "language_info": {
   "codemirror_mode": {
    "name": "ipython",
    "version": 3
   },
   "file_extension": ".py",
   "mimetype": "text/x-python",
   "name": "python",
   "nbconvert_exporter": "python",
   "pygments_lexer": "ipython3",
   "version": "3.13.2"
  }
 },
 "nbformat": 4,
 "nbformat_minor": 5
}
