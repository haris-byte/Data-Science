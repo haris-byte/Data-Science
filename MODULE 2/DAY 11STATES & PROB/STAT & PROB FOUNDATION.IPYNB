{
 "cells": [
  {
   "cell_type": "markdown",
   "id": "ff6c93a5",
   "metadata": {},
   "source": [
    "# Day 11  Tasks\n",
    "\n",
    "## Mean, Median, Mode"
   ]
  },
  {
   "cell_type": "code",
   "execution_count": 5,
   "id": "17e28509",
   "metadata": {},
   "outputs": [
    {
     "name": "stdout",
     "output_type": "stream",
     "text": [
      "\n",
      "Mean:\n",
      " a      48.1\n",
      "b    5151.7\n",
      "c      59.2\n",
      "dtype: float64\n",
      "\n",
      "Median:\n",
      " a      55.5\n",
      "b    6042.0\n",
      "c      67.0\n",
      "dtype: float64\n",
      "\n",
      "Mode:\n",
      " [  58 1121   78] (counts: [3 1 2] )\n"
     ]
    }
   ],
   "source": [
    "import numpy as n\n",
    "import pandas as p\n",
    "from scipy import stats\n",
    "\n",
    "df = p.DataFrame({\n",
    "    \"a\": n.random.randint(18,60,10),\n",
    "    \"b\": n.random.randint(1000,9000,10),\n",
    "    \"c\": n.random.randint(8,100,10) \n",
    "})\n",
    "print(\"\\nMean:\\n\", df.mean())\n",
    "print(\"\\nMedian:\\n\", df.median())\n",
    "mode = stats.mode(df)\n",
    "print(\"\\nMode:\\n\", mode.mode, \"(counts:\", mode.count, \")\")\n",
    "\n"
   ]
  },
  {
   "cell_type": "markdown",
   "id": "ecd225fb",
   "metadata": {},
   "source": [
    "## Variancs & Standard Deviasion"
   ]
  },
  {
   "cell_type": "code",
   "execution_count": 2,
   "id": "dfad54b3",
   "metadata": {},
   "outputs": [
    {
     "name": "stdout",
     "output_type": "stream",
     "text": [
      "\n",
      "Variance:\n",
      " a    1.511222e+02\n",
      "b    4.957617e+06\n",
      "c    8.343222e+02\n",
      "dtype: float64\n",
      "\n",
      "Standard Deviation:\n",
      " a      12.293178\n",
      "b    2226.570766\n",
      "c      28.884636\n",
      "dtype: float64\n"
     ]
    }
   ],
   "source": [
    "print(\"\\nVariance:\\n\", df.var())\n",
    "print(\"\\nStandard Deviation:\\n\", df.std())"
   ]
  },
  {
   "cell_type": "code",
   "execution_count": 3,
   "id": "3ecd3082",
   "metadata": {},
   "outputs": [
    {
     "name": "stderr",
     "output_type": "stream",
     "text": [
      "c:\\Users\\Dell\\AppData\\Local\\Programs\\Python\\Python313\\Lib\\site-packages\\numpy\\_core\\fromnumeric.py:4266: FutureWarning: The behavior of DataFrame.var with axis=None is deprecated, in a future version this will reduce over both axes and return a scalar. To retain the old behavior, pass axis=0 (or do not pass axis)\n",
      "  return var(axis=axis, dtype=dtype, out=out, ddof=ddof, **kwargs)\n",
      "c:\\Users\\Dell\\AppData\\Local\\Programs\\Python\\Python313\\Lib\\site-packages\\numpy\\_core\\fromnumeric.py:4062: FutureWarning: The behavior of DataFrame.std with axis=None is deprecated, in a future version this will reduce over both axes and return a scalar. To retain the old behavior, pass axis=0 (or do not pass axis)\n",
      "  return std(axis=axis, dtype=dtype, out=out, ddof=ddof, **kwargs)\n"
     ]
    },
    {
     "name": "stdout",
     "output_type": "stream",
     "text": [
      "Index(['a', 'b', 'c'], dtype='object') [1.36010000e+02 4.46185564e+06 7.50890000e+02]\n"
     ]
    },
    {
     "data": {
      "image/png": "[encoded data removed]",
      "text/plain": [
       "<Figure size 600x400 with 1 Axes>"
      ]
     },
     "metadata": {},
     "output_type": "display_data"
    }
   ],
   "source": [
    "import seaborn as s\n",
    "import matplotlib.pyplot as mt\n",
    "var = n.var(df)\n",
    "print(var.index,var.values)\n",
    "std = n.std(df)\n",
    "mt.figure(figsize=(6,4))\n",
    "s.barplot(x=df.var().index, y=df.var().values)\n",
    "mt.title(\"Variance of columns\")\n",
    "mt.ylabel(\"Variance\")\n",
    "mt.show()"
   ]
  }
 ],
 "metadata": {
  "kernelspec": {
   "display_name": "Python 3",
   "language": "python",
   "name": "python3"
  },
  "language_info": {
   "codemirror_mode": {
    "name": "ipython",
    "version": 3
   },
   "file_extension": ".py",
   "mimetype": "text/x-python",
   "name": "python",
   "nbconvert_exporter": "python",
   "pygments_lexer": "ipython3",
   "version": "3.13.2"
  }
 },
 "nbformat": 4,
 "nbformat_minor": 5
}
