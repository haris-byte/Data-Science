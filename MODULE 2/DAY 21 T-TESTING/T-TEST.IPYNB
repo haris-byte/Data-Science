{
 "cells": [
  {
   "cell_type": "markdown",
   "id": "ca697d08",
   "metadata": {},
   "source": [
    "# Tpoic: T-TEST"
   ]
  },
  {
   "cell_type": "code",
   "execution_count": 1,
   "id": "c3462571",
   "metadata": {},
   "outputs": [],
   "source": [
    "import numpy as np \n",
    "from scipy.stats import t"
   ]
  },
  {
   "cell_type": "markdown",
   "id": "e81204b2",
   "metadata": {},
   "source": [
    "## Define:\n",
    "A T-test is a statistical method used to compare means — just like the Z-test — but it’s designed for situations where:\n",
    "- Sample size is small (n < 30)\n",
    "- Population standard deviation is unknown.\n",
    "\n",
    "We use T-distribution it’s like a fatter version of the normal curve that accounts for more uncertainty in small samples."
   ]
  },
  {
   "cell_type": "code",
   "execution_count": 2,
   "id": "18729f16",
   "metadata": {},
   "outputs": [],
   "source": [
    "# Simulated population DPS from historical artifact (σ unknown)\n",
    "pop_dps = np.random.normal(loc=2000, scale=300, size=100000)\n",
    "pop_mean = np.mean(pop_dps)"
   ]
  },
  {
   "cell_type": "code",
   "execution_count": 3,
   "id": "d04e76a7",
   "metadata": {},
   "outputs": [],
   "source": [
    "# Sample DPS from new Artifact \"Crimson Star\" (σ unknown)\n",
    "sample = np.random.normal(loc=2100, scale=310, size=25)\n",
    "sample_mean = np.mean(sample)\n",
    "sample_std = np.std(sample, ddof=1)"
   ]
  },
  {
   "cell_type": "markdown",
   "id": "be0d449c",
   "metadata": {},
   "source": [
    "## Types of testing \n",
    "- **1-sample T-test** | Compare sample mean to a known value (like 2000 DPS)                   |\n",
    "- **2-sample T-test** | Compare two groups (e.g., Echo Saber-X vs Old Saber)                   |\n",
    "- **Paired T-test**   | Same group before/after treatment (e.g., DPS before and after upgrade) |\n"
   ]
  },
  {
   "cell_type": "markdown",
   "id": "cac5747f",
   "metadata": {},
   "source": [
    "## Task Artifact Dps Analysis by t-test\n",
    "Testing if a new artifact in Wuthering Waves increases DPS, using t-test\n",
    "→ Population σ is unknown."
   ]
  },
  {
   "cell_type": "code",
   "execution_count": 4,
   "id": "104f0437",
   "metadata": {},
   "outputs": [],
   "source": [
    "# Standard Error\n",
    "SE = sample_std / np.sqrt(len(sample))\n",
    "# t-score calculation\n",
    "t_score = (sample_mean - pop_mean) / SE\n",
    "# Degrees of Freedom\n",
    "df = len(sample) - 1\n",
    "# One-tailed p-value\n",
    "p_value = 1 - t.cdf(t_score, df=df)"
   ]
  },
  {
   "cell_type": "markdown",
   "id": "36a24ba3",
   "metadata": {},
   "source": [
    "## Output"
   ]
  },
  {
   "cell_type": "code",
   "execution_count": 6,
   "id": "c2df1ff8",
   "metadata": {},
   "outputs": [
    {
     "name": "stdout",
     "output_type": "stream",
     "text": [
      "Sample Mean: 2073.96\n",
      "Population Mean (Unknown σ): 2000.80\n",
      "t-score: 1.461\n",
      "p-value: 0.07848\n"
     ]
    }
   ],
   "source": [
    "print(f\"Sample Mean: {sample_mean:.2f}\")\n",
    "print(f\"Population Mean (Unknown σ): {pop_mean:.2f}\")\n",
    "print(f\"t-score: {t_score:.3f}\")\n",
    "print(f\"p-value: {p_value:.5f}\")\n"
   ]
  },
  {
   "cell_type": "markdown",
   "id": "c2c430c1",
   "metadata": {},
   "source": [
    "## Hypothesis Test "
   ]
  },
  {
   "cell_type": "code",
   "execution_count": 7,
   "id": "23e99e5f",
   "metadata": {},
   "outputs": [
    {
     "name": "stdout",
     "output_type": "stream",
     "text": [
      "Fail to reject H₀: Not enough evidence for DPS improvement.\n"
     ]
    }
   ],
   "source": [
    "alpha = 0.05\n",
    "if p_value < alpha:\n",
    "    print(\"Reject H₀: New Artifact 'Crimson Star' improves DPS!\")\n",
    "else:\n",
    "    print(\"Fail to reject H₀: Not enough evidence for DPS improvement.\")"
   ]
  }
 ],
 "metadata": {
  "kernelspec": {
   "display_name": "Python 3",
   "language": "python",
   "name": "python3"
  },
  "language_info": {
   "codemirror_mode": {
    "name": "ipython",
    "version": 3
   },
   "file_extension": ".py",
   "mimetype": "text/x-python",
   "name": "python",
   "nbconvert_exporter": "python",
   "pygments_lexer": "ipython3",
   "version": "3.13.2"
  }
 },
 "nbformat": 4,
 "nbformat_minor": 5
}
