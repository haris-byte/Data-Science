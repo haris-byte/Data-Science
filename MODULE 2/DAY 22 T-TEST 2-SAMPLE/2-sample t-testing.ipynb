{
 "cells": [
  {
   "cell_type": "markdown",
   "id": "2c14112f",
   "metadata": {},
   "source": [
    "# 2 Sample T-Test -> Hypothesis Testing"
   ]
  },
  {
   "cell_type": "markdown",
   "id": "ef6a99b1",
   "metadata": {},
   "source": [
    "## RPG Scenario:\n",
    "You're testing if the artifact “Crimson Star” actually performs better than the artifact “Emerald Genesis” in terms of DPS. Each is equipped on different teams with similar base stats."
   ]
  },
  {
   "cell_type": "code",
   "execution_count": 3,
   "id": "aebab2d1",
   "metadata": {},
   "outputs": [],
   "source": [
    "import numpy as np\n",
    "from scipy.stats import t"
   ]
  },
  {
   "cell_type": "markdown",
   "id": "11a66a90",
   "metadata": {},
   "source": [
    "Sample Dps For 2 Artifact"
   ]
  },
  {
   "cell_type": "code",
   "execution_count": 4,
   "id": "4437092b",
   "metadata": {},
   "outputs": [],
   "source": [
    "np.random.seed(42)\n",
    "crimson_dps = np.random.normal(loc=2100, scale=310, size=30)\n",
    "emerald_dps = np.random.normal(loc=2000, scale=290, size=30)"
   ]
  },
  {
   "cell_type": "markdown",
   "id": "c8e1be02",
   "metadata": {},
   "source": [
    "Mean & Std Dev"
   ]
  },
  {
   "cell_type": "code",
   "execution_count": 5,
   "id": "897debd0",
   "metadata": {},
   "outputs": [],
   "source": [
    "Mean_Crim =np.mean(crimson_dps)\n",
    "Mean_Emer =np.mean(emerald_dps)\n",
    "std_Crim =np.std(crimson_dps)\n",
    "std_Emer =np.std(emerald_dps)"
   ]
  },
  {
   "cell_type": "markdown",
   "id": "b82fbd3c",
   "metadata": {},
   "source": [
    "Standard Error & T-Score"
   ]
  },
  {
   "cell_type": "code",
   "execution_count": 6,
   "id": "b8ad52ec",
   "metadata": {},
   "outputs": [],
   "source": [
    "Se = np.sqrt((std_Crim**2 / len(crimson_dps)) + np.sqrt(std_Emer**2 / len(emerald_dps)))\n",
    "t_score = (Mean_Crim - Mean_Emer) / Se"
   ]
  },
  {
   "cell_type": "markdown",
   "id": "efed28f8",
   "metadata": {},
   "source": [
    "Degree Of Freedom (approx. using Welch-Satterthwaite Equation)"
   ]
  },
  {
   "cell_type": "code",
   "execution_count": 7,
   "id": "521ed199",
   "metadata": {},
   "outputs": [],
   "source": [
    "df = (std_Crim**2 / len(crimson_dps)) + (std_Emer**2 / len(emerald_dps)) / (\n",
    "    ((std_Crim**2 / len(crimson_dps))**2) / (len(crimson_dps)-1) + \n",
    "    ((std_Emer**2 / len(emerald_dps))**2) / (len(emerald_dps)-1)\n",
    " )"
   ]
  },
  {
   "cell_type": "markdown",
   "id": "42f0ebfe",
   "metadata": {},
   "source": [
    "P-Value For one-Tailed Testing"
   ]
  },
  {
   "cell_type": "code",
   "execution_count": null,
   "id": "1cd72d88",
   "metadata": {},
   "outputs": [],
   "source": [
    "p_value = 1- t.cdf(t_score, df)"
   ]
  },
  {
   "cell_type": "markdown",
   "id": "a5fee7e4",
   "metadata": {},
   "source": [
    "Output"
   ]
  },
  {
   "cell_type": "code",
   "execution_count": 9,
   "id": "9130a2fa",
   "metadata": {},
   "outputs": [
    {
     "name": "stdout",
     "output_type": "stream",
     "text": [
      "Crimson Mean: 2041.67\n",
      "Emerald Mean: 1964.86\n",
      "t-score: 1.52\n",
      "p-value: 0.06\n"
     ]
    }
   ],
   "source": [
    "print(f\"Crimson Mean: {Mean_Crim:.2f}\")\n",
    "print(f\"Emerald Mean: {Mean_Emer:.2f}\")\n",
    "print(f\"t-score: {t_score:.2f}\")\n",
    "print(f\"p-value: {p_value:.2f}\")"
   ]
  },
  {
   "cell_type": "code",
   "execution_count": 10,
   "id": "3245b233",
   "metadata": {},
   "outputs": [
    {
     "name": "stdout",
     "output_type": "stream",
     "text": [
      "Emerald is significantly better then crimson\n"
     ]
    }
   ],
   "source": [
    "alpha = 0.05\n",
    "if p_value < alpha:\n",
    "    print(\"Reject H0: Crimson is better then emerald)\")\n",
    "else:\n",
    "    print(\"Emerald is significantly better then crimson\")"
   ]
  }
 ],
 "metadata": {
  "kernelspec": {
   "display_name": "Python 3",
   "language": "python",
   "name": "python3"
  },
  "language_info": {
   "codemirror_mode": {
    "name": "ipython",
    "version": 3
   },
   "file_extension": ".py",
   "mimetype": "text/x-python",
   "name": "python",
   "nbconvert_exporter": "python",
   "pygments_lexer": "ipython3",
   "version": "3.13.2"
  }
 },
 "nbformat": 4,
 "nbformat_minor": 5
}
